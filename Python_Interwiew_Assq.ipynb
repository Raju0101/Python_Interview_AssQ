{
 "cells": [
  {
   "cell_type": "markdown",
   "id": "415f4b39-06f5-4aa8-9db2-8e73ea6cf837",
   "metadata": {},
   "source": [
    "## Python_Interview_AssQ"
   ]
  },
  {
   "cell_type": "code",
   "execution_count": null,
   "id": "1fecf893-439a-45d8-9ca2-19c5fed20232",
   "metadata": {},
   "outputs": [],
   "source": [
    "1. Write a Python program to reverse a string without using any built-in string reversal functions."
   ]
  },
  {
   "cell_type": "code",
   "execution_count": 2,
   "id": "43955f83-bd2a-4bb7-9a79-debe639e523e",
   "metadata": {},
   "outputs": [
    {
     "data": {
      "text/plain": [
       "[5, 4, 3, 2, 1]"
      ]
     },
     "execution_count": 2,
     "metadata": {},
     "output_type": "execute_result"
    }
   ],
   "source": [
    "list = [1,2,3,4,5]\n",
    "list[::-1]"
   ]
  },
  {
   "cell_type": "code",
   "execution_count": 3,
   "id": "7ba93bc9-e9a4-4c68-b5ca-59f52b907ee9",
   "metadata": {},
   "outputs": [
    {
     "data": {
      "text/plain": [
       "'ecneicS ataD evol I'"
      ]
     },
     "execution_count": 3,
     "metadata": {},
     "output_type": "execute_result"
    }
   ],
   "source": [
    "string = \"I love Data Science\"\n",
    "string[::-1]"
   ]
  },
  {
   "cell_type": "code",
   "execution_count": null,
   "id": "03d00154-cbe7-4e48-8f33-1912aeaabbd6",
   "metadata": {},
   "outputs": [],
   "source": []
  },
  {
   "cell_type": "code",
   "execution_count": null,
   "id": "66dd69fe-5c4b-4338-9f8e-37a3958b45ff",
   "metadata": {},
   "outputs": [],
   "source": [
    "2. Implement a function to check if a given string is a palindrome."
   ]
  },
  {
   "cell_type": "code",
   "execution_count": 19,
   "id": "0a957016-9306-400f-b2b2-5ad16004426b",
   "metadata": {},
   "outputs": [
    {
     "name": "stdin",
     "output_type": "stream",
     "text": [
      "Enter string:  radar\n"
     ]
    },
    {
     "name": "stdout",
     "output_type": "stream",
     "text": [
      "The string is a palindrome.\n"
     ]
    }
   ],
   "source": [
    "#Define a function.\n",
    "\n",
    "def isPalindrome(string):\n",
    "    if (string == string[::-1]) :\n",
    "        return \"The string is a palindrome.\"\n",
    "    else:\n",
    "        return \"The string is not a palindrome.\"\n",
    "#Enter input string.\n",
    "string = input (\"Enter string: \")\n",
    "\n",
    "print(isPalindrome(string)) "
   ]
  },
  {
   "cell_type": "code",
   "execution_count": null,
   "id": "3ffd7581-3816-4a1e-b7ef-e6ab69926a6b",
   "metadata": {},
   "outputs": [],
   "source": []
  },
  {
   "cell_type": "code",
   "execution_count": null,
   "id": "3464a151-9cac-4185-b4aa-465ee563011e",
   "metadata": {},
   "outputs": [],
   "source": [
    "3. Write a program to find the largest element in a given list."
   ]
  },
  {
   "cell_type": "code",
   "execution_count": 36,
   "id": "67ee636e-6671-4e12-9db4-557ce609780a",
   "metadata": {},
   "outputs": [
    {
     "name": "stdout",
     "output_type": "stream",
     "text": [
      "Largest element is: 1000\n"
     ]
    }
   ],
   "source": [
    "# Python program to find largest\n",
    "# number in a list\n",
    " \n",
    "# list of numbers\n",
    "list1 = [11, 22, 33, 44, 55,1000,20]\n",
    " \n",
    "# sorting the list\n",
    "list1.sort()\n",
    " \n",
    "# printing the last element\n",
    "print(\"Largest element is:\", list1[-1])"
   ]
  },
  {
   "cell_type": "code",
   "execution_count": null,
   "id": "1b234e5a-cbf8-4cb5-b62b-cf3e7432a3b2",
   "metadata": {},
   "outputs": [],
   "source": []
  },
  {
   "cell_type": "code",
   "execution_count": null,
   "id": "6fa95187-6748-4d07-94db-b0bce7b06470",
   "metadata": {},
   "outputs": [],
   "source": [
    "4. Implement a function to count the occurrence of each element in a list."
   ]
  },
  {
   "cell_type": "code",
   "execution_count": 37,
   "id": "a87d6995-7ad7-4bdb-9d6c-617a0d0e22b7",
   "metadata": {},
   "outputs": [],
   "source": [
    "list = [11,22,33,11,11,22,34]"
   ]
  },
  {
   "cell_type": "code",
   "execution_count": 42,
   "id": "9cf7c4e1-e619-4ca6-8b37-5fb9b28e8d8b",
   "metadata": {},
   "outputs": [
    {
     "data": {
      "text/plain": [
       "3"
      ]
     },
     "execution_count": 42,
     "metadata": {},
     "output_type": "execute_result"
    }
   ],
   "source": [
    "list.count(11)"
   ]
  },
  {
   "cell_type": "code",
   "execution_count": null,
   "id": "c4456545-bd8a-49e9-b3db-28d0c5797395",
   "metadata": {},
   "outputs": [],
   "source": []
  },
  {
   "cell_type": "code",
   "execution_count": null,
   "id": "0e7f472f-05cf-4f23-81c1-6f9f4a65257d",
   "metadata": {},
   "outputs": [],
   "source": [
    "5. Write a Python program to find the second largest number in a list."
   ]
  },
  {
   "cell_type": "code",
   "execution_count": 43,
   "id": "85d64ea2-9800-4416-96c8-048b98f3eaee",
   "metadata": {},
   "outputs": [
    {
     "name": "stdout",
     "output_type": "stream",
     "text": [
      "Largest element is: 55\n"
     ]
    }
   ],
   "source": [
    "# list of numbers\n",
    "list1 = [11, 22, 33, 44, 55,1000,20]\n",
    " \n",
    "# sorting the list\n",
    "list1.sort()\n",
    " \n",
    "# printing the last element\n",
    "print(\"Largest element is:\", list1[-2])"
   ]
  },
  {
   "cell_type": "code",
   "execution_count": null,
   "id": "87abe8aa-ea69-41d5-864d-f508884b3bd8",
   "metadata": {},
   "outputs": [],
   "source": []
  },
  {
   "cell_type": "code",
   "execution_count": null,
   "id": "3bbadd51-f135-4ca0-8a69-948df544a2be",
   "metadata": {},
   "outputs": [],
   "source": [
    "6. Implement a function to remove duplicate elements from a list."
   ]
  },
  {
   "cell_type": "code",
   "execution_count": 47,
   "id": "cee00c4d-dcd1-42f6-8322-1461b87f4106",
   "metadata": {},
   "outputs": [
    {
     "name": "stdout",
     "output_type": "stream",
     "text": [
      "[11, 22, 33, 44, 555]\n"
     ]
    }
   ],
   "source": [
    "def Remove(duplicate):\n",
    "    final_list = []\n",
    "    for i in duplicate:\n",
    "        if i not in final_list:\n",
    "            final_list.append(i)\n",
    "    return final_list \n",
    "\n",
    "duplicate = [11,22,33,44,555,11,22,44]\n",
    "print(Remove(duplicate))"
   ]
  },
  {
   "cell_type": "code",
   "execution_count": null,
   "id": "1dea5d61-3c9c-4eba-aae3-d8e249928df5",
   "metadata": {},
   "outputs": [],
   "source": []
  },
  {
   "cell_type": "code",
   "execution_count": null,
   "id": "53911054-0723-4e2a-aa43-6aab08a2ae18",
   "metadata": {},
   "outputs": [],
   "source": [
    "7. Write a program to calculate the factorial of a given number."
   ]
  },
  {
   "cell_type": "code",
   "execution_count": 48,
   "id": "5bfacc9b-ee75-49e0-a9bc-15bc9acc0656",
   "metadata": {},
   "outputs": [
    {
     "name": "stdout",
     "output_type": "stream",
     "text": [
      "Factorial of 5 is 120\n"
     ]
    }
   ],
   "source": [
    "def factorial(n):\n",
    "     \n",
    "    # single line to find factorial\n",
    "    return 1 if (n==1 or n==0) else n * factorial(n - 1)\n",
    " \n",
    "# Driver Code\n",
    "num = 5\n",
    "print(\"Factorial of\",num,\"is\",factorial(num))"
   ]
  },
  {
   "cell_type": "code",
   "execution_count": null,
   "id": "5b6df7b6-9cc1-4215-8b32-5fb5a9864ce3",
   "metadata": {},
   "outputs": [],
   "source": []
  },
  {
   "cell_type": "code",
   "execution_count": null,
   "id": "b187d918-09f4-4dba-9869-e793339279bc",
   "metadata": {},
   "outputs": [],
   "source": [
    "8. Implement a function to check if a given number is prime."
   ]
  },
  {
   "cell_type": "code",
   "execution_count": 50,
   "id": "795a4344-7659-4a3e-a7d8-5f67d3b14fb1",
   "metadata": {},
   "outputs": [
    {
     "name": "stdout",
     "output_type": "stream",
     "text": [
      "101 is a prime number\n"
     ]
    }
   ],
   "source": [
    "num = 101\n",
    "# If given number is greater than 1\n",
    "if num > 1:\n",
    "    # Iterate from 2 to n / 2\n",
    "    for i in range(2, int(num/2)+1):\n",
    "        # If num is divisible by any number between\n",
    "        # 2 and n / 2, it is not prime\n",
    "        if (num % i) == 0:\n",
    "            print(num, \"is not a prime number\")\n",
    "            break\n",
    "    else:\n",
    "        print(num, \"is a prime number\")\n",
    "else:\n",
    "    print(num, \"is not a prime number\")"
   ]
  },
  {
   "cell_type": "code",
   "execution_count": null,
   "id": "c68b3149-240b-43aa-9273-a3e707e0c8b2",
   "metadata": {},
   "outputs": [],
   "source": []
  },
  {
   "cell_type": "code",
   "execution_count": null,
   "id": "aba2df36-0689-427c-bacb-84e2f02bc320",
   "metadata": {},
   "outputs": [],
   "source": [
    "9. Write a Python program to sort a list of integers in ascending order."
   ]
  },
  {
   "cell_type": "code",
   "execution_count": 62,
   "id": "4eaa0efc-7eb8-4001-9bd4-0ddae5ea79ab",
   "metadata": {},
   "outputs": [
    {
     "name": "stdout",
     "output_type": "stream",
     "text": [
      "[11, 11, 22, 22, 33, 33, 44, 55]\n",
      "[11, 11, 22, 22, 33, 33, 44, 55]\n"
     ]
    }
   ],
   "source": [
    "L = [11,22,33,11,22,33,44,55]\n",
    "L.sort()\n",
    "print(L)\n",
    "print(sorted(L))"
   ]
  },
  {
   "cell_type": "code",
   "execution_count": 59,
   "id": "2a3e9f19-56c1-4220-ba1c-996b3a181b4f",
   "metadata": {},
   "outputs": [
    {
     "name": "stdout",
     "output_type": "stream",
     "text": [
      "[11, 20, 22, 33, 44, 55, 1000]\n"
     ]
    }
   ],
   "source": [
    "# list of numbers\n",
    "list1 = [11, 22, 33, 44, 55,1000,20]\n",
    " \n",
    "# sorting the list\n",
    "list1.sort()\n",
    "print(list1)\n",
    " \n"
   ]
  },
  {
   "cell_type": "code",
   "execution_count": 58,
   "id": "1dc7248f-53ec-4976-8c6c-2afa40e579dd",
   "metadata": {},
   "outputs": [
    {
     "name": "stdout",
     "output_type": "stream",
     "text": [
      "None\n",
      "[1, 2, 3, 4]\n",
      "[1, 2, 3, 4]\n",
      "[1, 2, 3, 4]\n"
     ]
    }
   ],
   "source": [
    "numbers = [1, 3, 4, 2]\n",
    "# Sorting list of Integers in ascending\n",
    "print(numbers.sort())  # None\n",
    "print(numbers)           # [1, 2, 3, 4]\n",
    " \n",
    "print(sorted(numbers))  # [1, 2, 3, 4]\n",
    "print(numbers)            # [1, 3, 4, 2]"
   ]
  },
  {
   "cell_type": "code",
   "execution_count": null,
   "id": "a851f9f5-6d30-4dbd-a5aa-26b9d04cadf6",
   "metadata": {},
   "outputs": [],
   "source": []
  },
  {
   "cell_type": "code",
   "execution_count": null,
   "id": "c1af7489-857f-4e1a-8897-6b1a746a9de1",
   "metadata": {},
   "outputs": [],
   "source": [
    "10. Implement a function to find the sum of all numbers in a list."
   ]
  },
  {
   "cell_type": "code",
   "execution_count": 64,
   "id": "7e5e8176-71bd-4db4-bb05-a78e391a098b",
   "metadata": {},
   "outputs": [
    {
     "name": "stdout",
     "output_type": "stream",
     "text": [
      "Sum of all elements in given list:  1500\n"
     ]
    }
   ],
   "source": [
    "total = 0\n",
    " \n",
    "# creating a list\n",
    "list1 = [100, 200, 300, 400, 500]\n",
    " \n",
    "# Iterate each element in list\n",
    "# and add them in variable total\n",
    "for ele in range(0, len(list1)):\n",
    "    total = total + list1[ele]\n",
    " \n",
    "# printing total value\n",
    "print(\"Sum of all elements in given list: \", total)\n"
   ]
  },
  {
   "cell_type": "code",
   "execution_count": null,
   "id": "360c02de-6c29-4041-8075-5c11bf830974",
   "metadata": {},
   "outputs": [],
   "source": []
  },
  {
   "cell_type": "code",
   "execution_count": null,
   "id": "9d67d46a-c757-4024-ab45-19f2570906fc",
   "metadata": {},
   "outputs": [],
   "source": [
    "11. Write a program to find the common elements between two lists."
   ]
  },
  {
   "cell_type": "code",
   "execution_count": 65,
   "id": "9366da97-27a2-4197-ae10-b8dcb9cadeda",
   "metadata": {},
   "outputs": [
    {
     "name": "stdout",
     "output_type": "stream",
     "text": [
      "{5}\n",
      "No common elements\n"
     ]
    }
   ],
   "source": [
    "def common_member(a, b):\n",
    "    a_set = set(a)\n",
    "    b_set = set(b)\n",
    " \n",
    "    if (a_set & b_set):\n",
    "        print(a_set & b_set)\n",
    "    else:\n",
    "        print(\"No common elements\")\n",
    "          \n",
    "  \n",
    "a = [1, 2, 3, 4, 5]\n",
    "b = [5, 6, 7, 8, 9]\n",
    "common_member(a, b)\n",
    "  \n",
    "a = [1, 2, 3, 4, 5]\n",
    "b = [6, 7, 8, 9]\n",
    "common_member(a, b)"
   ]
  },
  {
   "cell_type": "code",
   "execution_count": null,
   "id": "2e8130aa-beea-4bcb-bc6a-40f19e24c40b",
   "metadata": {},
   "outputs": [],
   "source": []
  },
  {
   "cell_type": "code",
   "execution_count": null,
   "id": "935aa82b-70ab-45a0-b749-b1beef1abafb",
   "metadata": {},
   "outputs": [],
   "source": [
    "12. Implement a function to check if a given string is an anagram of another string."
   ]
  },
  {
   "cell_type": "code",
   "execution_count": 66,
   "id": "cd73a784-9e0d-40c8-8674-bee02c38e9f4",
   "metadata": {},
   "outputs": [
    {
     "name": "stdout",
     "output_type": "stream",
     "text": [
      "The strings are anagrams.\n"
     ]
    }
   ],
   "source": [
    "def check(s1, s2):\n",
    "     \n",
    "    # the sorted strings are checked\n",
    "    if(sorted(s1)== sorted(s2)):\n",
    "        print(\"The strings are anagrams.\")\n",
    "    else:\n",
    "        print(\"The strings aren't anagrams.\")        \n",
    "         \n",
    "# driver code \n",
    "s1 =\"listen\"\n",
    "s2 =\"silent\"\n",
    "check(s1, s2)"
   ]
  },
  {
   "cell_type": "code",
   "execution_count": null,
   "id": "c16f493e-0e49-4108-a777-e18c36feba5b",
   "metadata": {},
   "outputs": [],
   "source": []
  },
  {
   "cell_type": "code",
   "execution_count": null,
   "id": "c56cf3ef-5aee-4cf5-9dc8-6f3ad984f1b6",
   "metadata": {},
   "outputs": [],
   "source": [
    "13. Write a Python program to generate all permutations of a given string."
   ]
  },
  {
   "cell_type": "code",
   "execution_count": null,
   "id": "bb53b9f8-3e64-4145-aed3-2ca0568ac4b6",
   "metadata": {},
   "outputs": [],
   "source": [
    "def toString(List):\n",
    "    return ''.join(List)\n",
    " \n",
    "# Function to print permutations\n",
    "# of string\n",
    "# This function takes three parameters:\n",
    "# 1. String\n",
    "# 2. Starting index of the string\n",
    "# 3. Ending index of the string.\n",
    "def permute(a, l, r):\n",
    "    if l == r:\n",
    "        print (toString(a))\n",
    "    else:\n",
    "        for i in range(l, r + 1):\n",
    "            a[l], a[i] = a[i], a[l]\n",
    "            permute(a, l + 1, r)\n",
    " \n",
    "            # backtrack\n",
    "            a[l], a[i] = a[i], a[l]\n",
    " \n",
    "# Driver code\n",
    "string = \"ABC\"\n",
    "n = len(string)\n",
    "a = list(string)\n",
    "permute(a, 0, n-1)"
   ]
  },
  {
   "cell_type": "code",
   "execution_count": null,
   "id": "95595bdf-06cf-4b0e-b0c8-b293a198b62d",
   "metadata": {},
   "outputs": [],
   "source": []
  },
  {
   "cell_type": "code",
   "execution_count": null,
   "id": "c27af4a8-72b2-4c5c-bba6-b2739df5e4dc",
   "metadata": {},
   "outputs": [],
   "source": [
    "14. Implement a function to calculate the Fibonacci sequence up to a given number of terms."
   ]
  },
  {
   "cell_type": "code",
   "execution_count": 68,
   "id": "67a730a3-67ab-4b00-89bd-bc50e91a31f0",
   "metadata": {},
   "outputs": [
    {
     "name": "stdout",
     "output_type": "stream",
     "text": [
      "34\n"
     ]
    }
   ],
   "source": [
    "def Fibonacci(n):\n",
    "    if n<= 0:\n",
    "        print(\"Incorrect input\")\n",
    "    # First Fibonacci number is 0\n",
    "    elif n == 1:\n",
    "        return 0\n",
    "    # Second Fibonacci number is 1\n",
    "    elif n == 2:\n",
    "        return 1\n",
    "    else:\n",
    "        return Fibonacci(n-1)+Fibonacci(n-2)\n",
    " \n",
    "# Driver Program\n",
    " \n",
    "print(Fibonacci(10))"
   ]
  },
  {
   "cell_type": "code",
   "execution_count": null,
   "id": "2a6d6720-56e4-486f-a0af-db1156a7f1ac",
   "metadata": {},
   "outputs": [],
   "source": []
  },
  {
   "cell_type": "code",
   "execution_count": null,
   "id": "976cb42d-c48d-4061-92d7-9f2fb5c7ea11",
   "metadata": {},
   "outputs": [],
   "source": [
    "15. Write a program to find the median of a list of numbers."
   ]
  },
  {
   "cell_type": "code",
   "execution_count": 73,
   "id": "47ec750c-a13a-46fc-b3df-97e8e4842a13",
   "metadata": {},
   "outputs": [
    {
     "name": "stdout",
     "output_type": "stream",
     "text": [
      "The original list : [4, 5, 8, 9, 10, 17]\n",
      "Median of list is : 8.5\n"
     ]
    }
   ],
   "source": [
    "\n",
    " \n",
    "# initializing list\n",
    "test_list = [4, 5, 8, 9, 10, 17]\n",
    " \n",
    "# printing list\n",
    "print(\"The original list : \" + str(test_list))\n",
    " \n",
    "# Median of list\n",
    "# Using loop + \"~\" operator\n",
    "test_list.sort()\n",
    "mid = len(test_list) // 2\n",
    "res = (test_list[mid] + test_list[~mid]) / 2\n",
    " \n",
    "# Printing result\n",
    "print(\"Median of list is : \" + str(res))"
   ]
  },
  {
   "cell_type": "code",
   "execution_count": null,
   "id": "6f21a99a-be86-47d0-b1b3-65ac1cbdccb4",
   "metadata": {},
   "outputs": [],
   "source": []
  },
  {
   "cell_type": "code",
   "execution_count": null,
   "id": "fba1fa57-60a8-493c-af5d-ac4722ea943a",
   "metadata": {},
   "outputs": [],
   "source": [
    "16. Implement a function to check if a given list is sorted in non-decreasing order."
   ]
  },
  {
   "cell_type": "code",
   "execution_count": 74,
   "id": "1a3a5d97-6a7f-45e5-a202-a886a2eb65c3",
   "metadata": {},
   "outputs": [
    {
     "name": "stdout",
     "output_type": "stream",
     "text": [
      "Original list : [1, 4, 5, 8, 10]\n",
      "Yes, List is sorted.\n"
     ]
    }
   ],
   "source": [
    "# initializing list\n",
    "test_list = [1, 4, 5, 8, 10]\n",
    " \n",
    "# printing original list\n",
    "print (\"Original list : \" + str(test_list))\n",
    " \n",
    "# using naive method to\n",
    "# check sorted list\n",
    "flag = 0\n",
    "i = 1\n",
    "while i < len(test_list):\n",
    "    if(test_list[i] < test_list[i - 1]):\n",
    "        flag = 1\n",
    "    i += 1\n",
    "     \n",
    "# printing result\n",
    "if (not flag) :\n",
    "    print (\"Yes, List is sorted.\")\n",
    "else :\n",
    "    print (\"No, List is not sorted.\")"
   ]
  },
  {
   "cell_type": "code",
   "execution_count": null,
   "id": "e9a9a7b5-e69f-45dc-b32e-4580235fd9b7",
   "metadata": {},
   "outputs": [],
   "source": []
  },
  {
   "cell_type": "code",
   "execution_count": null,
   "id": "ab27deea-50bb-4b39-95c6-a2b60d1d909b",
   "metadata": {},
   "outputs": [],
   "source": [
    "17. Write a Python program to find the intersection of two lists."
   ]
  },
  {
   "cell_type": "code",
   "execution_count": 76,
   "id": "78408ea7-c6a5-413e-8ed0-a596f8c881ad",
   "metadata": {},
   "outputs": [
    {
     "name": "stdout",
     "output_type": "stream",
     "text": [
      "[9, 11, 26, 28]\n"
     ]
    }
   ],
   "source": [
    "def intersection(lst1, lst2):\n",
    "    lst3 = [value for value in lst1 if value in lst2]\n",
    "    return lst3\n",
    " \n",
    "# Driver Code\n",
    "lst1 = [4, 9, 1, 17, 11, 26, 28, 54, 69]\n",
    "lst2 = [9, 9, 74, 21, 45, 11, 63, 28, 26]\n",
    "print(intersection(lst1, lst2))"
   ]
  },
  {
   "cell_type": "code",
   "execution_count": null,
   "id": "e5460b11-2dbe-48ee-9a79-76d10bf919ad",
   "metadata": {},
   "outputs": [],
   "source": []
  },
  {
   "cell_type": "code",
   "execution_count": null,
   "id": "185ef0f6-2b23-48bc-beb6-c5af8ef829e9",
   "metadata": {},
   "outputs": [],
   "source": [
    "18. Implement a function to find the maximum subarray sum in a given list.\n"
   ]
  },
  {
   "cell_type": "code",
   "execution_count": 77,
   "id": "d4afc032-a278-4131-8dbb-7bb22a493bf6",
   "metadata": {},
   "outputs": [
    {
     "name": "stdout",
     "output_type": "stream",
     "text": [
      "Maximum contiguous sum is  21\n"
     ]
    }
   ],
   "source": [
    "def maxCrossingSum(arr, l, m, h):\n",
    " \n",
    "    # Include elements on left of mid.\n",
    "    sm = 0\n",
    "    left_sum = -10000\n",
    " \n",
    "    for i in range(m, l-1, -1):\n",
    "        sm = sm + arr[i]\n",
    " \n",
    "        if (sm > left_sum):\n",
    "            left_sum = sm\n",
    " \n",
    "    # Include elements on right of mid\n",
    "    sm = 0\n",
    "    right_sum = -1000\n",
    "    for i in range(m, h + 1):\n",
    "        sm = sm + arr[i]\n",
    " \n",
    "        if (sm > right_sum):\n",
    "            right_sum = sm\n",
    " \n",
    "    # Return sum of elements on left and right of mid\n",
    "    # returning only left_sum + right_sum will fail for [-2, 1]\n",
    "    return max(left_sum + right_sum - arr[m], left_sum, right_sum)\n",
    " \n",
    " \n",
    "# Returns sum of maximum sum subarray in aa[l..h]\n",
    "def maxSubArraySum(arr, l, h):\n",
    "    #Invalid Range: low is greater than high\n",
    "    if (l > h):\n",
    "        return -10000\n",
    "    # Base Case: Only one element\n",
    "    if (l == h):\n",
    "        return arr[l]\n",
    " \n",
    "    # Find middle point\n",
    "    m = (l + h) // 2\n",
    " \n",
    "    # Return maximum of following three possible cases\n",
    "    # a) Maximum subarray sum in left half\n",
    "    # b) Maximum subarray sum in right half\n",
    "    # c) Maximum subarray sum such that the\n",
    "    #     subarray crosses the midpoint\n",
    "    return max(maxSubArraySum(arr, l, m-1),\n",
    "               maxSubArraySum(arr, m+1, h),\n",
    "               maxCrossingSum(arr, l, m, h))\n",
    " \n",
    " \n",
    "# Driver Code\n",
    "arr = [2, 3, 4, 5, 7]\n",
    "n = len(arr)\n",
    " \n",
    "max_sum = maxSubArraySum(arr, 0, n-1)\n",
    "print(\"Maximum contiguous sum is \", max_sum)"
   ]
  },
  {
   "cell_type": "code",
   "execution_count": null,
   "id": "672157fa-c15c-454c-9f8a-6f9c4c88bc85",
   "metadata": {},
   "outputs": [],
   "source": []
  },
  {
   "cell_type": "code",
   "execution_count": null,
   "id": "acd2b463-a07f-4fe8-a5fa-ac0feb050afd",
   "metadata": {},
   "outputs": [],
   "source": [
    "19. Write a program to remove all vowels from a given string"
   ]
  },
  {
   "cell_type": "code",
   "execution_count": 79,
   "id": "64e52dd2-02f5-4914-8686-e9ba95c70528",
   "metadata": {},
   "outputs": [
    {
     "name": "stdout",
     "output_type": "stream",
     "text": [
      "pwsklls dt scnc -  Cmptr Scnc Prtl fr pwsklls\n",
      "Lvng Pythn LL\n"
     ]
    }
   ],
   "source": [
    "def rem_vowel(string):\n",
    "    vowels = ['a','e','i','o','u']\n",
    "    result = [letter for letter in string if letter.lower() not in vowels]\n",
    "    result = ''.join(result)\n",
    "    print(result)\n",
    "  \n",
    "# Driver program\n",
    "string = \"pwskills data science - A Computer Science Portal for pwskills\"\n",
    "rem_vowel(string)\n",
    "string = \"Loving Python LOL\"\n",
    "rem_vowel(string)"
   ]
  },
  {
   "cell_type": "code",
   "execution_count": null,
   "id": "4b9079a6-20bc-4dc8-84ff-0cee27b9e932",
   "metadata": {},
   "outputs": [],
   "source": []
  },
  {
   "cell_type": "code",
   "execution_count": null,
   "id": "cb1bb051-cda7-41d5-b1af-bec59f7ad79a",
   "metadata": {},
   "outputs": [],
   "source": [
    "20. Implement a function to reverse the order of words in a given sentence."
   ]
  },
  {
   "cell_type": "code",
   "execution_count": null,
   "id": "99475f84-4f64-491f-8e88-71610c796e43",
   "metadata": {},
   "outputs": [],
   "source": [
    "def reverse_word(s, start, end):\n",
    "    while start < end:\n",
    "        s[start], s[end] = s[end], s[start]\n",
    "        start = start + 1\n",
    "        end -= 1\n",
    " \n",
    " \n",
    "s = \"i like this program very much\"\n",
    " \n",
    "# Convert string to list to use it as a char array\n",
    "s = list(s)\n",
    "start = 0\n",
    "while True:\n",
    " \n",
    "    # We use a try catch block because for\n",
    "    # the last word the list.index() function\n",
    "    # returns a ValueError as it cannot find\n",
    "    # a space in the list\n",
    "    try:\n",
    "        # Find the next space\n",
    "        end = s.index(' ', start)\n",
    " \n",
    "        # Call reverse_word function\n",
    "        # to reverse each word\n",
    "        reverse_word(s, start, end - 1)\n",
    " \n",
    "        # Update start variable\n",
    "        start = end + 1\n",
    " \n",
    "    except ValueError:\n",
    " \n",
    "        # Reverse the last word\n",
    "        reverse_word(s, start, len(s) - 1)\n",
    "        break\n",
    " \n",
    "# Reverse the entire list\n",
    "s.reverse()\n",
    " \n",
    "# Convert the list back to\n",
    "# string using string.join() function\n",
    "s = \"\".join(s)\n",
    " \n",
    "print(s)"
   ]
  },
  {
   "cell_type": "code",
   "execution_count": null,
   "id": "a68c229e-5a51-4960-bc41-00fae6c5e808",
   "metadata": {},
   "outputs": [],
   "source": []
  },
  {
   "cell_type": "code",
   "execution_count": null,
   "id": "6c118c5e-6c58-4cd2-8e20-df6cbf3bf035",
   "metadata": {},
   "outputs": [],
   "source": [
    "21. Write a Python program to check if two strings are anagrams of each other."
   ]
  },
  {
   "cell_type": "code",
   "execution_count": 1,
   "id": "a86b6c59-041f-4b56-af91-b448a2318593",
   "metadata": {},
   "outputs": [
    {
     "name": "stdout",
     "output_type": "stream",
     "text": [
      "The strings are anagrams.\n"
     ]
    }
   ],
   "source": [
    "def check(s1, s2):\n",
    "     \n",
    "    # the sorted strings are checked\n",
    "    if(sorted(s1)== sorted(s2)):\n",
    "        print(\"The strings are anagrams.\")\n",
    "    else:\n",
    "        print(\"The strings aren't anagrams.\")        \n",
    "         \n",
    "# driver code \n",
    "s1 =\"listen\"\n",
    "s2 =\"silent\"\n",
    "check(s1, s2)"
   ]
  },
  {
   "cell_type": "code",
   "execution_count": null,
   "id": "b19a00cc-3240-4108-b75a-8c9e99a05cd6",
   "metadata": {},
   "outputs": [],
   "source": [
    "22. Implement a function to find the first non-repeating character in a string."
   ]
  },
  {
   "cell_type": "code",
   "execution_count": 2,
   "id": "a5ae923a-2295-44ae-b004-97b78a81a50b",
   "metadata": {},
   "outputs": [
    {
     "name": "stdout",
     "output_type": "stream",
     "text": [
      "First non-repeating character is p\n"
     ]
    }
   ],
   "source": [
    "string = \"pwskills\"\n",
    "index = -1\n",
    "fnc = \"\"\n",
    " \n",
    "if len(string) == 0 :\n",
    "  print(\"EMTPY STRING\");\n",
    " \n",
    "for i in string:\n",
    "    if string.count(i) == 1:\n",
    "        fnc += i\n",
    "        break\n",
    "    else:\n",
    "        index += 1\n",
    "if index == len(string)-1 :\n",
    "    print(\"All characters are repeating \")\n",
    "else:\n",
    "    print(\"First non-repeating character is\", fnc)"
   ]
  },
  {
   "cell_type": "code",
   "execution_count": null,
   "id": "0c84f5a0-fc1e-4923-b3f5-39fed72431f8",
   "metadata": {},
   "outputs": [],
   "source": [
    "23. Write a program to find the prime factors of a given number."
   ]
  },
  {
   "cell_type": "code",
   "execution_count": 7,
   "id": "b8de2db3-e9c0-486e-86f3-e2fb365aed55",
   "metadata": {},
   "outputs": [
    {
     "name": "stdout",
     "output_type": "stream",
     "text": [
      "3\n",
      "3\n",
      "5\n",
      "7\n"
     ]
    }
   ],
   "source": [
    "import math\n",
    " \n",
    "# A function to print all prime factors of\n",
    "# a given number n\n",
    "def primeFactors(n):\n",
    "     \n",
    "    # Print the number of two's that divide n\n",
    "    while n % 2 == 0:\n",
    "        print (2)\n",
    "        n = n / 2\n",
    "         \n",
    "    # n must be odd at this point\n",
    "    # so a skip of 2 ( i = i + 2) can be used\n",
    "    for i in range(3,int(math.sqrt(n))+1,2):\n",
    "         \n",
    "        # while i divides n , print i and divide n\n",
    "        while n % i== 0:\n",
    "            print (i)\n",
    "            n = n / i\n",
    "             \n",
    "    # Condition if n is a prime\n",
    "    # number greater than 2\n",
    "    if n > 2:\n",
    "        print (n)\n",
    "         \n",
    "# Driver Program to test above function\n",
    " \n",
    "n = 315\n",
    "primeFactors(n)"
   ]
  },
  {
   "cell_type": "code",
   "execution_count": null,
   "id": "63716986-d831-47e4-9228-61dfc9a2ec61",
   "metadata": {},
   "outputs": [],
   "source": [
    "24. Implement a function to check if a given number is a power of two."
   ]
  },
  {
   "cell_type": "code",
   "execution_count": 8,
   "id": "d950626c-fb87-4b6e-b41b-bc586f8778cd",
   "metadata": {},
   "outputs": [
    {
     "name": "stdout",
     "output_type": "stream",
     "text": [
      "No\n",
      "Yes\n"
     ]
    }
   ],
   "source": [
    "import math\n",
    " \n",
    "# Function to check\n",
    "# Log base 2\n",
    " \n",
    " \n",
    "def Log2(x):\n",
    "    if x == 0:\n",
    "        return false\n",
    " \n",
    "    return (math.log10(x) /\n",
    "            math.log10(2))\n",
    " \n",
    "# Function to check\n",
    "# if x is power of 2\n",
    " \n",
    " \n",
    "def isPowerOfTwo(n):\n",
    "    return (math.ceil(Log2(n)) ==\n",
    "            math.floor(Log2(n)))\n",
    " \n",
    " \n",
    "# Driver Code\n",
    "if __name__ == \"__main__\":\n",
    " \n",
    "    # Function call\n",
    "    if(isPowerOfTwo(31)):\n",
    "        print(\"Yes\")\n",
    "    else:\n",
    "        print(\"No\")\n",
    " \n",
    "    if(isPowerOfTwo(64)):\n",
    "        print(\"Yes\")\n",
    "    else:\n",
    "        print(\"No\")"
   ]
  },
  {
   "cell_type": "code",
   "execution_count": null,
   "id": "9785db2c-43e7-44d3-980a-6ca88feea490",
   "metadata": {},
   "outputs": [],
   "source": [
    "25. Write a Python program to merge two sorted lists into a single sorted list."
   ]
  },
  {
   "cell_type": "code",
   "execution_count": 9,
   "id": "aefa583a-2a92-4801-9a0a-b9611e47f51b",
   "metadata": {},
   "outputs": [
    {
     "name": "stdout",
     "output_type": "stream",
     "text": [
      "The original list 1 is : [1, 5, 6, 9, 11]\n",
      "The original list 2 is : [3, 4, 7, 8, 10]\n",
      "The combined sorted list is : [1, 3, 4, 5, 6, 7, 8, 9, 10, 11]\n"
     ]
    }
   ],
   "source": [
    "# initializing lists\n",
    "test_list1 = [1, 5, 6, 9, 11]\n",
    "test_list2 = [3, 4, 7, 8, 10]\n",
    " \n",
    "# printing original lists\n",
    "print(\"The original list 1 is : \" + str(test_list1))\n",
    "print(\"The original list 2 is : \" + str(test_list2))\n",
    " \n",
    "# using naive method\n",
    "# to combine two sorted lists\n",
    "size_1 = len(test_list1)\n",
    "size_2 = len(test_list2)\n",
    " \n",
    "res = []\n",
    "i, j = 0, 0\n",
    " \n",
    "while i < size_1 and j < size_2:\n",
    "    if test_list1[i] < test_list2[j]:\n",
    "        res.append(test_list1[i])\n",
    "        i += 1\n",
    " \n",
    "    else:\n",
    "        res.append(test_list2[j])\n",
    "        j += 1\n",
    " \n",
    "res = res + test_list1[i:] + test_list2[j:]\n",
    " \n",
    "# printing result\n",
    "print(\"The combined sorted list is : \" + str(res))\n"
   ]
  },
  {
   "cell_type": "code",
   "execution_count": null,
   "id": "33ea1b76-343d-44e6-a0b9-98b99e04fbaa",
   "metadata": {},
   "outputs": [],
   "source": [
    "26. Implement a function to find the mode of a list of numbers."
   ]
  },
  {
   "cell_type": "code",
   "execution_count": 10,
   "id": "e2e35cfe-1b2e-461a-ad19-e38c7fb82b35",
   "metadata": {},
   "outputs": [
    {
     "name": "stdout",
     "output_type": "stream",
     "text": [
      "Mode is / are: 5\n"
     ]
    }
   ],
   "source": [
    "from collections import Counter\n",
    " \n",
    "# list of elements to calculate mode\n",
    "n_num = [1, 2, 3, 4, 5, 5]\n",
    "n = len(n_num)\n",
    " \n",
    "data = Counter(n_num)\n",
    "get_mode = dict(data)\n",
    "mode = [k for k, v in get_mode.items() if v == max(list(data.values()))]\n",
    " \n",
    "if len(mode) == n:\n",
    "    get_mode = \"No mode found\"\n",
    "else:\n",
    "    get_mode = \"Mode is / are: \" + ', '.join(map(str, mode))\n",
    "     \n",
    "print(get_mode)"
   ]
  },
  {
   "cell_type": "code",
   "execution_count": null,
   "id": "ca81756a-393a-4b86-a2e9-fa5a37b75de9",
   "metadata": {},
   "outputs": [],
   "source": [
    "27. Write a program to find the greatest common divisor (GCD) of two numbers."
   ]
  },
  {
   "cell_type": "code",
   "execution_count": 11,
   "id": "a8a399a3-7270-4ea0-bb11-ce66f02374d3",
   "metadata": {},
   "outputs": [
    {
     "name": "stdout",
     "output_type": "stream",
     "text": [
      "The gcd of 60 and 48 is : 12\n"
     ]
    }
   ],
   "source": [
    "import math\n",
    " \n",
    "# prints 12\n",
    "print(\"The gcd of 60 and 48 is : \", end=\"\")\n",
    "print(math.gcd(60, 48))"
   ]
  },
  {
   "cell_type": "code",
   "execution_count": null,
   "id": "e34ebe99-dd65-47aa-8018-b7fefe08ca63",
   "metadata": {},
   "outputs": [],
   "source": [
    "28. Implement a function to calculate the square root of a given number."
   ]
  },
  {
   "cell_type": "code",
   "execution_count": 20,
   "id": "ab7cef3b-add0-4dcc-9d5a-5b07ade5aa04",
   "metadata": {},
   "outputs": [
    {
     "name": "stdout",
     "output_type": "stream",
     "text": [
      "5.0\n"
     ]
    }
   ],
   "source": [
    "def sqrt(x):\n",
    "   return x**0.5\n",
    "x=25\n",
    "print (sqrt(25))\n"
   ]
  },
  {
   "cell_type": "code",
   "execution_count": 15,
   "id": "90e2f9a0-9bca-4806-b5b9-8a2ccb0b8685",
   "metadata": {},
   "outputs": [
    {
     "name": "stdout",
     "output_type": "stream",
     "text": [
      "3\n"
     ]
    }
   ],
   "source": [
    "def Sqrt(x):\n",
    " \n",
    "    # Base cases\n",
    "    if (x == 0 or x == 1):\n",
    "        return x\n",
    " \n",
    "    # Starting from 1, try all numbers until\n",
    "    # i*i is greater than or equal to x.\n",
    "    i = 1\n",
    "    result = 1\n",
    "    while (result <= x):\n",
    " \n",
    "        i += 1\n",
    "        result = i * i\n",
    " \n",
    "    return i - 1\n",
    " \n",
    " \n",
    "# Driver Code\n",
    "x = 9\n",
    "print(Sqrt(x))"
   ]
  },
  {
   "cell_type": "code",
   "execution_count": 16,
   "id": "9eb2eb80-e1ca-4021-a990-c2fee470542b",
   "metadata": {},
   "outputs": [
    {
     "name": "stdout",
     "output_type": "stream",
     "text": [
      "3\n"
     ]
    }
   ],
   "source": [
    "def countSquares(x):\n",
    "    sqrt = x**0.5\n",
    "    result = int(sqrt)\n",
    "    return result\n",
    " \n",
    " \n",
    "x = 9\n",
    "print(countSquares(x))"
   ]
  },
  {
   "cell_type": "code",
   "execution_count": null,
   "id": "fc3a68f3-b27c-4967-9618-f691acd41126",
   "metadata": {},
   "outputs": [],
   "source": [
    "29. Write a Python program to check if a given string is a valid palindrome ignoring non-alphanumeric characters."
   ]
  },
  {
   "cell_type": "code",
   "execution_count": 21,
   "id": "a465e597-be6c-4b8c-ad1a-3439c244266a",
   "metadata": {},
   "outputs": [
    {
     "name": "stdout",
     "output_type": "stream",
     "text": [
      "Yes\n"
     ]
    }
   ],
   "source": [
    " #function which return reverse of a string\n",
    " \n",
    "def isPalindrome(s):\n",
    "    return s == s[::-1]\n",
    " \n",
    " \n",
    "# Driver code\n",
    "s = \"malayalam\"\n",
    "ans = isPalindrome(s)\n",
    " \n",
    "if ans:\n",
    "    print(\"Yes\")\n",
    "else:\n",
    "    print(\"No\")"
   ]
  },
  {
   "cell_type": "code",
   "execution_count": null,
   "id": "e3c53cab-8b3a-45ec-b31e-e34b67b0df88",
   "metadata": {},
   "outputs": [],
   "source": [
    "30. Implement a function to find the minimum element in a rotated sorted list."
   ]
  },
  {
   "cell_type": "code",
   "execution_count": 22,
   "id": "6f313385-ec3d-4d52-8baf-00adcfd989d6",
   "metadata": {},
   "outputs": [
    {
     "name": "stdout",
     "output_type": "stream",
     "text": [
      "1\n"
     ]
    }
   ],
   "source": [
    "def findMin(arr, N):\n",
    "     \n",
    "    min_ele = arr[0];\n",
    " \n",
    "    # Traversing over array to\n",
    "    # find minimum element\n",
    "    for i in range(N) :\n",
    "        if arr[i] < min_ele :\n",
    "            min_ele = arr[i]\n",
    " \n",
    "    return min_ele;\n",
    " \n",
    "# Driver program\n",
    "arr = [5, 6, 1, 2, 3, 4]\n",
    "N = len(arr)\n",
    " \n",
    "print(findMin(arr,N))"
   ]
  },
  {
   "cell_type": "code",
   "execution_count": null,
   "id": "c1cb1726-c982-48f8-967d-7363b039c998",
   "metadata": {},
   "outputs": [],
   "source": [
    "31. Write a program to find the sum of all even numbers in a list."
   ]
  },
  {
   "cell_type": "code",
   "execution_count": 29,
   "id": "3b4f6293-02f6-4fd2-973b-471e30e4f49a",
   "metadata": {},
   "outputs": [
    {
     "name": "stdout",
     "output_type": "stream",
     "text": [
      "The original list is:[345, 893, 1948, 34, 2346]\n",
      "Odd digit sum : 36\n",
      "Even digit sum : 40\n"
     ]
    }
   ],
   "source": [
    "# initializing list\n",
    "test_list = [345, 893, 1948, 34, 2346]\n",
    " \n",
    "# printing original list\n",
    "print(\"The original list is:\" + str(test_list))\n",
    " \n",
    "odd_sum = 0\n",
    "even_sum = 0\n",
    " \n",
    "for sub in test_list:\n",
    "    for ele in str(sub):\n",
    "         \n",
    "        # adding in particular summation according to value\n",
    "        if int(ele) % 2 == 0:\n",
    "            even_sum += int(ele)\n",
    "        else:\n",
    "            odd_sum += int(ele)\n",
    " \n",
    "# printing result\n",
    "print(\"Odd digit sum : \" + str(odd_sum))\n",
    "print(\"Even digit sum : \" + str(even_sum))"
   ]
  },
  {
   "cell_type": "code",
   "execution_count": null,
   "id": "f02ae784-17e9-4f8b-b820-5509e5412781",
   "metadata": {},
   "outputs": [],
   "source": [
    "32. Implement a function to calculate the power of a number using recursion."
   ]
  },
  {
   "cell_type": "code",
   "execution_count": 30,
   "id": "f80ac089-aa8c-4560-950f-48f2f6dcbdc4",
   "metadata": {},
   "outputs": [
    {
     "name": "stdout",
     "output_type": "stream",
     "text": [
      "25\n"
     ]
    }
   ],
   "source": [
    "# Recursive function to find N^P.\n",
    "def power(N, P):\n",
    " \n",
    "    # If power is 0 then return 1\n",
    "    # if condition is true\n",
    "    # only then it will enter it,\n",
    "    # otherwise not\n",
    "    if P == 0:\n",
    "        return 1\n",
    " \n",
    "    # Recurrence relation\n",
    "    return (N*power(N, P-1))\n",
    " \n",
    " \n",
    "# Driver code\n",
    "if __name__ == '__main__':\n",
    "    N = 5\n",
    "    P = 2\n",
    " \n",
    "    print(power(N, P))\n"
   ]
  },
  {
   "cell_type": "code",
   "execution_count": null,
   "id": "880c17cd-d82a-4c32-8379-b6089cbda65c",
   "metadata": {},
   "outputs": [],
   "source": [
    "33. Write a Python program to remove duplicates from a list while preserving the order."
   ]
  },
  {
   "cell_type": "code",
   "execution_count": 34,
   "id": "742f0fa7-1c6f-475c-abb2-280e7020e50b",
   "metadata": {},
   "outputs": [
    {
     "name": "stdout",
     "output_type": "stream",
     "text": [
      "[2, 4, 5, 10, 20]\n"
     ]
    }
   ],
   "source": [
    "def Remove(duplicate):\n",
    "    final_list = []\n",
    "    for num in duplicate:\n",
    "        if num not in final_list:\n",
    "            final_list.append(num)\n",
    "    return final_list\n",
    "     \n",
    "# Driver Code\n",
    "duplicate = [2, 4, 10, 20, 5, 2, 20, 4]\n",
    "s = Remove(duplicate)\n",
    "s1=s.sort()\n",
    "print(s)"
   ]
  },
  {
   "cell_type": "code",
   "execution_count": null,
   "id": "6cb8ce5d-d51d-4acb-bba9-9b239e841427",
   "metadata": {},
   "outputs": [],
   "source": [
    "34. Implement a function to find the longest common prefix among a list of strings."
   ]
  },
  {
   "cell_type": "code",
   "execution_count": 35,
   "id": "db9a7abf-9081-4ae4-91a4-bdd9c6f4d666",
   "metadata": {},
   "outputs": [
    {
     "name": "stdout",
     "output_type": "stream",
     "text": [
      "The longest Common Prefix is : gee\n"
     ]
    }
   ],
   "source": [
    "def longestCommonPrefix( a):\n",
    "     \n",
    "    size = len(a)\n",
    " \n",
    "    # if size is 0, return empty string\n",
    "    if (size == 0):\n",
    "        return \"\"\n",
    " \n",
    "    if (size == 1):\n",
    "        return a[0]\n",
    " \n",
    "    # sort the array of strings\n",
    "    a.sort()\n",
    "     \n",
    "    # find the minimum length from\n",
    "    # first and last string\n",
    "    end = min(len(a[0]), len(a[size - 1]))\n",
    " \n",
    "    # find the common prefix between\n",
    "    # the first and last string\n",
    "    i = 0\n",
    "    while (i < end and\n",
    "           a[0][i] == a[size - 1][i]):\n",
    "        i += 1\n",
    " \n",
    "    pre = a[0][0: i]\n",
    "    return pre\n",
    " \n",
    "# Driver Code\n",
    "if __name__ == \"__main__\":\n",
    " \n",
    "    input = [\"geeksforgeeks\", \"geeks\",\n",
    "                     \"geek\", \"geezer\"]\n",
    "    print(\"The longest Common Prefix is :\" ,\n",
    "                 longestCommonPrefix(input))"
   ]
  },
  {
   "cell_type": "code",
   "execution_count": null,
   "id": "9feeb5cd-de65-4e93-ae2f-cc27dd26d4db",
   "metadata": {},
   "outputs": [],
   "source": [
    "35. Write a program to check if a given number is a perfect square."
   ]
  },
  {
   "cell_type": "code",
   "execution_count": 36,
   "id": "9a1ac8f1-983c-4c37-a2a6-7b4e7c227b7e",
   "metadata": {},
   "outputs": [
    {
     "name": "stdout",
     "output_type": "stream",
     "text": [
      "No\n"
     ]
    }
   ],
   "source": [
    "import math\n",
    " \n",
    " \n",
    "def isPerfectSquare(x):\n",
    " \n",
    "    #if x >= 0,\n",
    "    if(x >= 0):\n",
    "        sr = int(math.sqrt(x))\n",
    "        # sqrt function returns floating value so we have to convert it into integer\n",
    "        #return boolean T/F\n",
    "        return ((sr*sr) == x)\n",
    "    return false\n",
    " \n",
    "# Driver code\n",
    " \n",
    " \n",
    "x = 2502\n",
    "if (isPerfectSquare(x)):\n",
    "    print(\"Yes\")\n",
    "else:\n",
    "    print(\"No\")"
   ]
  },
  {
   "cell_type": "code",
   "execution_count": null,
   "id": "ed575eb7-a41a-4ef3-86bb-89e7838ffd90",
   "metadata": {},
   "outputs": [],
   "source": [
    "36. Implement a function to calculate the product of all elements in a list"
   ]
  },
  {
   "cell_type": "code",
   "execution_count": 37,
   "id": "6f75e3f6-1dea-4d9f-b6bb-fc3cc2a01749",
   "metadata": {},
   "outputs": [
    {
     "name": "stdout",
     "output_type": "stream",
     "text": [
      "6\n",
      "24\n"
     ]
    }
   ],
   "source": [
    " \n",
    "def multiplyList(myList):\n",
    " \n",
    "    # Multiply elements one by one\n",
    "    result = 1\n",
    "    for x in myList:\n",
    "        result = result * x\n",
    "    return result\n",
    " \n",
    " \n",
    "# Driver code\n",
    "list1 = [1, 2, 3]\n",
    "list2 = [3, 2, 4]\n",
    "print(multiplyList(list1))\n",
    "print(multiplyList(list2))"
   ]
  },
  {
   "cell_type": "code",
   "execution_count": null,
   "id": "f1fa0300-7d9a-4c09-9dba-607711bc54e0",
   "metadata": {},
   "outputs": [],
   "source": [
    "37. Write a Python program to reverse the order of words in a sentence while preserving the word order."
   ]
  },
  {
   "cell_type": "code",
   "execution_count": 39,
   "id": "ac2c3f8d-d400-4212-8456-f9482f9cd8f2",
   "metadata": {},
   "outputs": [
    {
     "name": "stdout",
     "output_type": "stream",
     "text": [
      "code practice quiz pwskills\n"
     ]
    }
   ],
   "source": [
    "# input string\n",
    "string = \"pwskills quiz practice code\"\n",
    "# reversing words in a given string\n",
    "s = string.split()[::-1]\n",
    "l = []\n",
    "for i in s:\n",
    "    # appending reversed words to l\n",
    "    l.append(i)\n",
    "# printing reverse words\n",
    "print(\" \".join(l))"
   ]
  },
  {
   "cell_type": "code",
   "execution_count": null,
   "id": "e27ca93f-1c69-471a-a596-5fdaa776f512",
   "metadata": {},
   "outputs": [],
   "source": [
    "38. Implement a function to find the missing number in a given list of consecutive numbers."
   ]
  },
  {
   "cell_type": "code",
   "execution_count": 41,
   "id": "8f55616a-ee84-4798-af96-75090af39a9e",
   "metadata": {},
   "outputs": [
    {
     "name": "stdout",
     "output_type": "stream",
     "text": [
      "4\n"
     ]
    }
   ],
   "source": [
    "def findMissing(arr, N):\n",
    "   \n",
    "    # create a list of zeroes\n",
    "    temp = [0] * (N+1)\n",
    " \n",
    "    for i in range(0, N):\n",
    "        temp[arr[i] - 1] = 1\n",
    " \n",
    "    for i in range(0, N+1):\n",
    "        if(temp[i] == 0):\n",
    "            ans = i + 1\n",
    " \n",
    "    print(ans)\n",
    " \n",
    "# Driver code\n",
    "if __name__ == '__main__':\n",
    "    arr = [1, 2, 3, 5]\n",
    "    N = len(arr)\n",
    " \n",
    "    # Function call\n",
    "    findMissing(arr, N)"
   ]
  },
  {
   "cell_type": "code",
   "execution_count": null,
   "id": "f0d48551-5b9a-4278-9c34-48f7a5357ff0",
   "metadata": {},
   "outputs": [],
   "source": [
    "39. Write a program to find the sum of digits of a given number."
   ]
  },
  {
   "cell_type": "code",
   "execution_count": 42,
   "id": "518088a3-5805-43aa-9242-c18a68cbd611",
   "metadata": {},
   "outputs": [
    {
     "name": "stdout",
     "output_type": "stream",
     "text": [
      "21\n"
     ]
    }
   ],
   "source": [
    "def getSum(n):\n",
    " \n",
    "    sum = 0\n",
    "    while (n != 0):\n",
    " \n",
    "        sum = sum + int(n % 10)\n",
    "        n = int(n/10)\n",
    " \n",
    "    return sum\n",
    " \n",
    " \n",
    "# Driver code\n",
    "if __name__ == \"__main__\":\n",
    "    n = 687\n",
    " \n",
    "    # Function call\n",
    "    print(getSum(n))"
   ]
  },
  {
   "cell_type": "code",
   "execution_count": null,
   "id": "c157ca5e-b209-4e60-a0e5-1a77813adaf4",
   "metadata": {},
   "outputs": [],
   "source": [
    "40. Implement a function to check if a given string is a valid palindrome considering case sensitivity."
   ]
  },
  {
   "cell_type": "code",
   "execution_count": 46,
   "id": "e0fcccd8-9fab-422d-aa76-f2a7a9a181ef",
   "metadata": {},
   "outputs": [
    {
     "name": "stdout",
     "output_type": "stream",
     "text": [
      "No\n"
     ]
    }
   ],
   "source": [
    "def isPalindrome(str):\n",
    " \n",
    "    # Run loop from 0 to len/2\n",
    "    for i in range(0, int(len(str)/2)):\n",
    "        if str[i] != str[len(str)-i-1]:\n",
    "            return False\n",
    "    return True\n",
    " \n",
    "# main function\n",
    "s = \"Malayalam\"\n",
    "ans = isPalindrome(s)\n",
    " \n",
    "if (ans):\n",
    "    print(\"Yes\")\n",
    "else:\n",
    "    print(\"No\")"
   ]
  },
  {
   "cell_type": "code",
   "execution_count": null,
   "id": "3038a2c1-0c30-4717-9cbe-05e72d33b32f",
   "metadata": {},
   "outputs": [],
   "source": [
    "41. Write a Python program to find the smallest missing positive integer in a list."
   ]
  },
  {
   "cell_type": "code",
   "execution_count": 47,
   "id": "f70c4fa8-0cc6-4bc4-bb02-3517e83b226f",
   "metadata": {},
   "outputs": [
    {
     "name": "stdout",
     "output_type": "stream",
     "text": [
      "1\n"
     ]
    }
   ],
   "source": [
    "def solution(A):  # Our original array\n",
    " \n",
    "    m = max(A)  # Storing maximum value\n",
    "    if m < 1:\n",
    " \n",
    "        # In case all values in our array are negative\n",
    "        return 1\n",
    "    if len(A) == 1:\n",
    " \n",
    "        # If it contains only one element\n",
    "        return 2 if A[0] == 1 else 1\n",
    "    l = [0] * m\n",
    "    for i in range(len(A)):\n",
    "        if A[i] > 0:\n",
    "            if l[A[i] - 1] != 1:\n",
    " \n",
    "                # Changing the value status at the index of our list\n",
    "                l[A[i] - 1] = 1\n",
    "    for i in range(len(l)):\n",
    " \n",
    "        # Encountering first 0, i.e, the element with least value\n",
    "        if l[i] == 0:\n",
    "            return i + 1\n",
    "            # In case all values are filled between 1 and m\n",
    "    return i + 2\n",
    " \n",
    " \n",
    "# Driver Code\n",
    "if __name__ == '__main__':\n",
    "    arr = [0, 10, 2, -10, -20]\n",
    "    print(solution(arr))"
   ]
  },
  {
   "cell_type": "code",
   "execution_count": null,
   "id": "893d92f8-c71e-4843-abd8-5cb6538cbbe7",
   "metadata": {},
   "outputs": [],
   "source": [
    "42. Implement a function to find the longest palindrome substring in a given string."
   ]
  },
  {
   "cell_type": "code",
   "execution_count": 53,
   "id": "f8e109ff-4392-4ea9-9dc4-2b1d47162c5d",
   "metadata": {},
   "outputs": [
    {
     "name": "stdout",
     "output_type": "stream",
     "text": [
      "Longest palindrome substring is: geeksskeeg\n",
      "Length is: 10\n"
     ]
    }
   ],
   "source": [
    "# Function to print a subString str[low..high]\n",
    "def printSubStr(str, low, high):\n",
    "    for i in range(low, high + 1):\n",
    "        print(str[i], end=\"\")\n",
    " \n",
    " \n",
    "# This function prints the\n",
    "# longest palindrome subString\n",
    "# It also returns the length\n",
    "# of the longest palindrome\n",
    "def longestPalSubstr(str):\n",
    " \n",
    "    # Get length of input String\n",
    "    n = len(str)\n",
    " \n",
    "    # All subStrings of length 1\n",
    "    # are palindromes\n",
    "    maxLength = 1\n",
    "    start = 0\n",
    " \n",
    "    # Nested loop to mark start\n",
    "    # and end index\n",
    "    for i in range(n):\n",
    "        for j in range(i, n):\n",
    "            flag = 1\n",
    " \n",
    "            # Check palindrome\n",
    "            for k in range(0, ((j - i) // 2) + 1):\n",
    "                if (str[i + k] != str[j - k]):\n",
    "                    flag = 0\n",
    " \n",
    "            # Palindrome\n",
    "            if (flag != 0 and (j - i + 1) > maxLength):\n",
    "                start = i\n",
    "                maxLength = j - i + 1\n",
    " \n",
    "    print(\"Longest palindrome substring is: \", end=\"\")\n",
    "    printSubStr(str, start, start + maxLength - 1)\n",
    " \n",
    "    # Return length of LPS\n",
    "    return maxLength\n",
    " \n",
    " \n",
    "# Driver Code\n",
    "if __name__ == '__main__':\n",
    " \n",
    "    str = \"forgeeksskeegfor\"\n",
    "    print(\"\\nLength is:\", longestPalSubstr(str))"
   ]
  },
  {
   "cell_type": "code",
   "execution_count": null,
   "id": "d38f4b8c-ba09-4bda-9f81-a09b72dbb78e",
   "metadata": {},
   "outputs": [],
   "source": [
    "43. Write a program to find the number of occurrences of a given element in a list."
   ]
  },
  {
   "cell_type": "code",
   "execution_count": 55,
   "id": "d11faee1-c241-420f-83b8-0b3c467672c5",
   "metadata": {},
   "outputs": [
    {
     "name": "stdout",
     "output_type": "stream",
     "text": [
      "8 has occurred 5 times\n"
     ]
    }
   ],
   "source": [
    "def countX(lst, x):\n",
    "    count = 0\n",
    "    for ele in lst:\n",
    "        if (ele == x):\n",
    "            count = count + 1\n",
    "    return count\n",
    " \n",
    " \n",
    "# Driver Code\n",
    "lst = [8, 6, 8, 10, 8, 20, 10, 8, 8]\n",
    "x = 8\n",
    "print('{} has occurred {} times'.format(x,\n",
    "                                        countX(lst, x)))"
   ]
  },
  {
   "cell_type": "code",
   "execution_count": null,
   "id": "4a4e4b56-bd27-4ca5-956a-ec0573abdcc5",
   "metadata": {},
   "outputs": [],
   "source": [
    "44. Implement a function to check if a given number is a perfect number."
   ]
  },
  {
   "cell_type": "code",
   "execution_count": 56,
   "id": "4e73a1e0-86f6-425c-9abc-1646711e508e",
   "metadata": {},
   "outputs": [
    {
     "name": "stdout",
     "output_type": "stream",
     "text": [
      "Below are all perfect numbers till 10000\n",
      "6  is a perfect number\n",
      "28  is a perfect number\n",
      "496  is a perfect number\n",
      "8128  is a perfect number\n"
     ]
    }
   ],
   "source": [
    "# Returns true if n is perfect\n",
    "def isPerfect( n ):\n",
    "     \n",
    "    # To store sum of divisors\n",
    "    sum = 1\n",
    "     \n",
    "    # Find all divisors and add them\n",
    "    i = 2\n",
    "    while i * i <= n:\n",
    "        if n % i == 0:\n",
    "            sum = sum + i + n/i\n",
    "        i += 1\n",
    "     \n",
    "    # If sum of divisors is equal to\n",
    "    # n, then n is a perfect number\n",
    "     \n",
    "    return (True if sum == n and n!=1 else False)\n",
    " \n",
    "# Driver program\n",
    "print(\"Below are all perfect numbers till 10000\")\n",
    "n = 2\n",
    "for n in range (10000):\n",
    "    if isPerfect (n):\n",
    "        print(n , \" is a perfect number\")"
   ]
  },
  {
   "cell_type": "code",
   "execution_count": null,
   "id": "c62bf831-42d1-4727-a002-446534bcd173",
   "metadata": {},
   "outputs": [],
   "source": [
    "45. Write a Python program to remove all duplicates from a string."
   ]
  },
  {
   "cell_type": "code",
   "execution_count": 58,
   "id": "e6b7f538-334d-421f-889b-c16a3f958c17",
   "metadata": {},
   "outputs": [
    {
     "name": "stdout",
     "output_type": "stream",
     "text": [
      "pwskil\n"
     ]
    }
   ],
   "source": [
    "string=\"pwskills\"\n",
    "p=\"\"\n",
    "for char in string:\n",
    "    if char not in p:\n",
    "        p=p+char\n",
    "print(p)\n",
    "k=list(\"geeksforgeeks\")"
   ]
  },
  {
   "cell_type": "code",
   "execution_count": null,
   "id": "9c1bacdb-08db-4996-8650-0f789315ea9c",
   "metadata": {},
   "outputs": [],
   "source": [
    "46. Implement a function to find the first missing positive"
   ]
  },
  {
   "cell_type": "code",
   "execution_count": 59,
   "id": "219160aa-b94b-4341-a36b-1736440e9a9e",
   "metadata": {},
   "outputs": [
    {
     "name": "stdout",
     "output_type": "stream",
     "text": [
      "1\n"
     ]
    }
   ],
   "source": [
    "def solution(A):  # Our original array\n",
    " \n",
    "    m = max(A)  # Storing maximum value\n",
    "    if m < 1:\n",
    " \n",
    "        # In case all values in our array are negative\n",
    "        return 1\n",
    "    if len(A) == 1:\n",
    " \n",
    "        # If it contains only one element\n",
    "        return 2 if A[0] == 1 else 1\n",
    "    l = [0] * m\n",
    "    for i in range(len(A)):\n",
    "        if A[i] > 0:\n",
    "            if l[A[i] - 1] != 1:\n",
    " \n",
    "                # Changing the value status at the index of our list\n",
    "                l[A[i] - 1] = 1\n",
    "    for i in range(len(l)):\n",
    " \n",
    "        # Encountering first 0, i.e, the element with least value\n",
    "        if l[i] == 0:\n",
    "            return i + 1\n",
    "            # In case all values are filled between 1 and m\n",
    "    return i + 2\n",
    " \n",
    " \n",
    "# Driver Code\n",
    "if __name__ == '__main__':\n",
    "    arr = [0, 10, 2, -10, -20]\n",
    "    print(solution(arr))"
   ]
  },
  {
   "cell_type": "code",
   "execution_count": null,
   "id": "552d9a8e-e365-478a-972a-a76979c555d2",
   "metadata": {},
   "outputs": [],
   "source": [
    "...........................................THE END.............................."
   ]
  }
 ],
 "metadata": {
  "kernelspec": {
   "display_name": "Python 3 (ipykernel)",
   "language": "python",
   "name": "python3"
  },
  "language_info": {
   "codemirror_mode": {
    "name": "ipython",
    "version": 3
   },
   "file_extension": ".py",
   "mimetype": "text/x-python",
   "name": "python",
   "nbconvert_exporter": "python",
   "pygments_lexer": "ipython3",
   "version": "3.10.6"
  }
 },
 "nbformat": 4,
 "nbformat_minor": 5
}
